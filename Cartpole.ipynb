{
 "cells": [
  {
   "cell_type": "code",
   "execution_count": 1,
   "metadata": {},
   "outputs": [
    {
     "name": "stderr",
     "output_type": "stream",
     "text": [
      "/home/zack/anaconda3/envs/ml/lib/python3.7/site-packages/gym/logger.py:30: UserWarning: \u001b[33mWARN: Box bound precision lowered by casting to float32\u001b[0m\n",
      "  warnings.warn(colorize('%s: %s'%('WARN', msg % args), 'yellow'))\n",
      "/home/zack/anaconda3/envs/ml/lib/python3.7/site-packages/gym/logger.py:30: UserWarning: \u001b[33mWARN: Environment '<class 'env.cartpole_continuous.CartPoleContinuousEnv'>' has deprecated methods '_step' and '_reset' rather than 'step' and 'reset'. Compatibility code invoked. Set _gym_disable_underscore_compat = True to disable this behavior.\u001b[0m\n",
      "  warnings.warn(colorize('%s: %s'%('WARN', msg % args), 'yellow'))\n"
     ]
    }
   ],
   "source": [
    "from ILQR import ILQR\n",
    "import gym\n",
    "import sys\n",
    "import env\n",
    "import jax.numpy as np\n",
    "from tqdm.notebook import trange\n",
    "\n",
    "env = gym.make('CartPoleContinuous-v0').env"
   ]
  },
  {
   "cell_type": "code",
   "execution_count": 6,
   "metadata": {},
   "outputs": [
    {
     "data": {
      "application/vnd.jupyter.widget-view+json": {
       "model_id": "f257013afe384dd6bb871037352ddd2f",
       "version_major": 2,
       "version_minor": 0
      },
      "text/plain": [
       "HBox(children=(FloatProgress(value=0.0, max=500.0), HTML(value='')))"
      ]
     },
     "metadata": {},
     "output_type": "display_data"
    },
    {
     "name": "stderr",
     "output_type": "stream",
     "text": [
      "WARNING:env.cartpole_continuous:You are calling 'step()' even though this environment has already returned done = True. You should always call 'reset()' once you receive 'done = True' -- any further steps are undefined behavior.\n"
     ]
    },
    {
     "name": "stdout",
     "output_type": "stream",
     "text": [
      "\n"
     ]
    }
   ],
   "source": [
    "obs = env.reset()\n",
    "\n",
    "\n",
    "def final_cost(x):\n",
    "    return 0.5 * (np.square(1.0 - np.cos(x[2])) + np.square(x[1]) + np.square(x[3]))\n",
    "\n",
    "\n",
    "def running_cost(x, u):\n",
    "    return 0.5 * np.sum(np.square(u))\n",
    "\n",
    "\n",
    "def model(x, u):\n",
    "    return env._state_eq(x, u)\n",
    "\n",
    "\n",
    "horizon = 50\n",
    "per_iter = 2\n",
    "u_range = [-env.max_force, env.max_force]\n",
    "\n",
    "ilqr = ILQR(final_cost, running_cost, model, u_range, horizon, per_iter)\n",
    "\n",
    "u_seq = [np.zeros(1) for _ in range(horizon)]\n",
    "x_seq = [obs.copy()]\n",
    "for t in range(ilqr.horizon):\n",
    "    x_seq.append(env._state_eq(x_seq[-1], u_seq[t]))\n",
    "\n",
    "\n",
    "ctrl_seq = []\n",
    "\n",
    "for i in trange(500):\n",
    "#     env.render(mode='Human')\n",
    "    u_seq = ilqr.predict(x_seq, u_seq)\n",
    "\n",
    "    ctrl_seq.append(u_seq[0])\n",
    "    obs, _, _, _ = env.step(u_seq[0])\n",
    "    x_seq[0] = obs.copy()\n"
   ]
  },
  {
   "cell_type": "code",
   "execution_count": 8,
   "metadata": {},
   "outputs": [
    {
     "name": "stderr",
     "output_type": "stream",
     "text": [
      "WARNING:env.cartpole_continuous:You are calling 'step()' even though this environment has already returned done = True. You should always call 'reset()' once you receive 'done = True' -- any further steps are undefined behavior.\n"
     ]
    }
   ],
   "source": [
    "env.reset()\n",
    "\n",
    "for ctrl in ctrl_seq:\n",
    "    env.render(mode='Human')\n",
    "    env.step(ctrl)"
   ]
  },
  {
   "cell_type": "code",
   "execution_count": null,
   "metadata": {},
   "outputs": [],
   "source": []
  }
 ],
 "metadata": {
  "kernelspec": {
   "display_name": "Python 3",
   "language": "python",
   "name": "python3"
  },
  "language_info": {
   "codemirror_mode": {
    "name": "ipython",
    "version": 3
   },
   "file_extension": ".py",
   "mimetype": "text/x-python",
   "name": "python",
   "nbconvert_exporter": "python",
   "pygments_lexer": "ipython3",
   "version": "3.7.6"
  }
 },
 "nbformat": 4,
 "nbformat_minor": 4
}
