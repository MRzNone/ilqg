{
 "cells": [
  {
   "cell_type": "code",
   "execution_count": 60,
   "metadata": {},
   "outputs": [],
   "source": [
    "import gym\n",
    "import sys\n",
    "import time\n",
    "import jax.numpy as np\n",
    "import jax\n",
    "from tqdm.notebook import trange"
   ]
  },
  {
   "cell_type": "code",
   "execution_count": 3,
   "metadata": {},
   "outputs": [],
   "source": [
    "import jax.numpy as np\n",
    "from jax import grad, jacfwd, jacrev, random, jit\n",
    "\n",
    "\n",
    "class ILQR:\n",
    "    def __init__(self, final_cost, running_cost, model, u_range, horizon, per_iter, model_der=None):\n",
    "        '''\n",
    "            final_cost:     v(x)    ->  cost, float\n",
    "            running_cost:   l(x, u) ->  cost, float\n",
    "            model:          f(x, u) ->  new state, [n_x]\n",
    "        '''\n",
    "        self.f = model\n",
    "        self.v = final_cost\n",
    "        self.l = running_cost\n",
    "\n",
    "        self.u_range = u_range\n",
    "        self.horizon = horizon\n",
    "        self.per_iter = per_iter\n",
    "\n",
    "        # specify derivatives\n",
    "        self.l_x = grad(self.l, 0)\n",
    "        self.l_u = grad(self.l, 1)\n",
    "        self.l_xx = jacfwd(self.l_x, 0)\n",
    "        self.l_uu = jacfwd(self.l_u, 1)\n",
    "        self.l_ux = jacrev(self.l_u, 0)\n",
    "\n",
    "        self.v_x = grad(self.v)\n",
    "        self.v_xx = jacfwd(self.v_x)\n",
    "\n",
    "        if model_der == None:\n",
    "            self.f_x = jacrev(self.f, 0)\n",
    "            self.f_u = jacfwd(self.f, 1)\n",
    "            \n",
    "            (self.f, self.f_u, self.f_x,) = [jit(e) for e in [self.f, self.f_u, self.f_x,]]\n",
    "        else:\n",
    "            # using provided function for step\n",
    "            self.f_x = model_der.f_x\n",
    "            self.f_u = model_der.f_u\n",
    "            \n",
    "\n",
    "        # speed up\n",
    "        (self.l, self.l_u, self.l_uu, self.l_ux, self.l_x, self.l_xx,\n",
    "         self.v, self.v_x, self.v_xx) = \\\n",
    "            [jit(e) for e in [self.l, self.l_u, self.l_uu, self.l_ux, self.l_x, self.l_xx,\n",
    "                              self.v, self.v_x, self.v_xx]]\n",
    "\n",
    "\n",
    "    def cal_K(self, x_seq, u_seq):\n",
    "        '''\n",
    "            Calculate all the necessary derivatives, and compute the Ks\n",
    "        '''\n",
    "        state_dim = x_seq[0].shape[-1]\n",
    "#         v_seq = [None] * self.horizon\n",
    "        v_x_seq = [None] * self.horizon\n",
    "        v_xx_seq = [None] * self.horizon\n",
    "\n",
    "        last_x = x_seq[-1]\n",
    "#         v_seq[-1] = self.v(last_x)\n",
    "        v_x_seq[-1] = self.v_x(last_x)\n",
    "        v_xx_seq[-1] = self.v_xx(last_x)\n",
    "\n",
    "        k_seq = [None] * self.horizon\n",
    "        kk_seq = [None] * self.horizon\n",
    "\n",
    "        for i in range(self.horizon - 2, -1, -1):\n",
    "            x, u = x_seq[i], u_seq[i]\n",
    "\n",
    "            # get all grads\n",
    "            lx = self.l_x(x, u)\n",
    "            lu = self.l_u(x, u)\n",
    "            lxx = self.l_xx(x, u)\n",
    "            luu = self.l_uu(x, u)\n",
    "            lux = self.l_ux(x, u)\n",
    "\n",
    "            fx = self.f_x(x, u)\n",
    "            fu = self.f_u(x, u)\n",
    "            fxx = self.f_xx(x, u)\n",
    "            fuu = self.f_uu(x, u)\n",
    "            fux = self.f_ux(x, u)\n",
    "\n",
    "            vx = v_x_seq[i+1]\n",
    "            vxx = v_xx_seq[i+1]\n",
    "\n",
    "            # cal Qs\n",
    "            q_x = lx + fx.T @ vx\n",
    "            q_u = lu + fu.T @ vx\n",
    "            q_xx = lxx + fx.T @ vxx @ fx + vx @ fxx\n",
    "            q_uu = luu + fu.T @ vxx @ fu + (fuu.T @ vx).T\n",
    "            q_ux = lux + fu.T @ vxx @ fx + (fux.T @ vx).T\n",
    "\n",
    "            # cal Ks\n",
    "            inv_quu = np.linalg.inv(q_uu)\n",
    "            k = - inv_quu @ q_u\n",
    "            kk = - inv_quu @ q_ux\n",
    "\n",
    "            # cal Vs\n",
    "            new_v = q_u @ k / 2\n",
    "            new_vx = q_x + q_u @ kk\n",
    "            new_vxx = q_xx + q_ux.T @ kk\n",
    "\n",
    "            # record\n",
    "            k_seq[i] = k\n",
    "            kk_seq[i] = kk\n",
    "            v_x_seq[i] = new_vx\n",
    "            v_xx_seq[i] = new_vxx\n",
    "\n",
    "        return k_seq, kk_seq\n",
    "\n",
    "    def forward(self, x_seq, u_seq, k_seq, kk_seq):\n",
    "        new_x_seq = [None] * self.horizon\n",
    "        new_u_seq = [None] * self.horizon\n",
    "\n",
    "        new_x_seq[0] = x_seq[0]  # copy\n",
    "\n",
    "        for i in range(self.horizon - 1):\n",
    "            x = new_x_seq[i]\n",
    "\n",
    "            new_u = u_seq[i] + k_seq[i] + kk_seq[i] @ (x - x_seq[i])\n",
    "            new_u = np.clip(new_u, self.u_range[0], self.u_range[1])\n",
    "            new_x = self.f(x, new_u)\n",
    "\n",
    "            new_u_seq[i] = new_u\n",
    "            new_x_seq[i+1] = new_x\n",
    "\n",
    "        return new_x_seq, new_u_seq\n",
    "\n",
    "    def predict(self, x_seq, u_seq):\n",
    "        for _ in range(self.per_iter):\n",
    "            k_seq, kk_seq = self.cal_K(x_seq, u_seq)\n",
    "            x_seq, u_seq = self.forward(x_seq, u_seq, k_seq, kk_seq)\n",
    "\n",
    "        return u_seq\n"
   ]
  },
  {
   "cell_type": "code",
   "execution_count": 93,
   "metadata": {},
   "outputs": [
    {
     "data": {
      "text/plain": [
       "array([ 8.18700352e-03, -2.65489280e-03,  1.40420801e+00,  9.99955550e-01,\n",
       "        3.39517384e-03, -8.08512679e-03, -3.46426057e-03,  6.68744986e-03,\n",
       "        7.94259070e-03, -3.79750563e-04, -7.75025414e-03, -3.85111780e-03,\n",
       "       -3.22911379e-03, -4.08617108e-03,  6.39850009e-03, -7.13986900e-03,\n",
       "       -3.23650759e-03, -6.47747199e-03, -8.43558847e-03,  1.63022500e-03,\n",
       "       -3.41619092e-03, -8.31960013e-03,  3.16487514e-03, -5.24772930e-03])"
      ]
     },
     "execution_count": 93,
     "metadata": {},
     "output_type": "execute_result"
    }
   ],
   "source": [
    "env = gym.make('Humanoid-v3')\n",
    "obs = env.reset()\n",
    "\n",
    "\n",
    "'''\n",
    "    state info:\n",
    "        - COM\n",
    "        - torso pos\n",
    "        - foot pos\n",
    "        - COM velocity\n",
    "'''\n",
    "\n",
    "def info2array(info):\n",
    "    concat = []\n",
    "    for l in info.values():\n",
    "        concat += l\n",
    "    \n",
    "    return np.array(concat)\n",
    "\n",
    "def array2info(arr):\n",
    "    info = {\n",
    "        'com_pos': arr[0:2],\n",
    "        'com_v': arr[2:4],\n",
    "        'torso_pos': arr[4:7],\n",
    "        'lfoot_pos': arr[7:10],\n",
    "        'rfoot_pos': arr[10:13],\n",
    "    }\n",
    "    \n",
    "    return info\n",
    "\n",
    "def sim_step(env, action):\n",
    "    _, _, _, info = env.step(action)\n",
    "    \n",
    "    com_pos = [info['x_position'], info['y_position']]\n",
    "    com_v = [info['x_velocity'], info['y_velocity']]\n",
    "    torso_pos = env.env.data.get_body_xpos('torso').tolist()\n",
    "    lfoot_pos = env.env.data.get_body_xpos('left_foot').tolist()\n",
    "    rfoot_pos = env.env.data.get_body_xpos('right_foot').tolist()\n",
    "    \n",
    "    temp = [com_pos, com_v, torso_pos, lfoot_pos, rfoot_pos]\n",
    "    concat = []\n",
    "    for l in temp:\n",
    "        concat += l\n",
    "        \n",
    "    return np.array(concat)\n",
    "\n",
    "\n",
    "def final_cost(x, alpha=0.2):\n",
    "    com_pos, com_v, torso_pos, lfoot_pos, rfoot_pos = array2info(x).values()\n",
    "    \n",
    "    smooth_abs = lambda x : np.sum(np.sqrt(x**2 + alpha**2) - alpha)\n",
    "    \n",
    "    # calculate terms\n",
    "    mean_foot = (lfoot_pos + rfoot_pos) / 2\n",
    "    term1 = smooth_abs(com_pos - mean_foot[:2])\n",
    "    \n",
    "    term2 = smooth_abs(com_pos - torso_pos[:2])\n",
    "    \n",
    "    mean_foot_air = jax.ops.index_add(mean_foot, jax.ops.index[2], 1.3)\n",
    "    term3 = smooth_abs(torso_pos - mean_foot_air)\n",
    "    \n",
    "    term4 = np.linalg.norm(com_v)\n",
    "    \n",
    "    return term1 + term2 + term3 + term4\n",
    "    \n",
    "\n",
    "\n",
    "def running_cost(x, u, alpha=0.3):\n",
    "    return np.sum((alpha ** 2) * (np.cosh(u/alpha) - 1))\n",
    "\n",
    "\n",
    "def model(_, u):\n",
    "    return sim_step(env, u)\n",
    "\n",
    "def model_deri_fx(x, u, eps):\n",
    "    orig_env = env.sim.get_state()\n",
    "    \n",
    "    der = []\n",
    "    for i in len(x):\n",
    "        new_x = x.tolist()\n",
    "        new_x[i] += eps\n",
    "        \n",
    "        der.append(sim_step())\n",
    "        \n",
    "        \n",
    "    \n",
    "env.sim.get_state().qpos"
   ]
  },
  {
   "cell_type": "code",
   "execution_count": 5,
   "metadata": {},
   "outputs": [
    {
     "name": "stdout",
     "output_type": "stream",
     "text": [
      "Creating window glfw\n"
     ]
    },
    {
     "ename": "SystemExit",
     "evalue": "0",
     "output_type": "error",
     "traceback": [
      "An exception has occurred, use %tb to see the full traceback.\n",
      "\u001b[0;31mSystemExit\u001b[0m\u001b[0;31m:\u001b[0m 0\n"
     ]
    },
    {
     "name": "stderr",
     "output_type": "stream",
     "text": [
      "/home/zack/anaconda3/envs/ml/lib/python3.7/site-packages/IPython/core/interactiveshell.py:3339: UserWarning: To exit: use 'exit', 'quit', or Ctrl-D.\n",
      "  warn(\"To exit: use 'exit', 'quit', or Ctrl-D.\", stacklevel=1)\n"
     ]
    }
   ],
   "source": [
    "env.reset()\n",
    "\n",
    "s = env.sim.get_state()\n",
    "\n",
    "cnt = 0\n",
    "while True:\n",
    "    if cnt > 500:\n",
    "        cnt = 0\n",
    "        env.sim.set_state(s)\n",
    "    cnt+=1\n",
    "    \n",
    "    env.step(env.action_space.sample())\n",
    "    env.render()"
   ]
  },
  {
   "cell_type": "code",
   "execution_count": 8,
   "metadata": {},
   "outputs": [
    {
     "data": {
      "text/plain": [
       "(14,)"
      ]
     },
     "execution_count": 8,
     "metadata": {},
     "output_type": "execute_result"
    }
   ],
   "source": [
    "env.env.model.body_mass.shape"
   ]
  },
  {
   "cell_type": "code",
   "execution_count": 12,
   "metadata": {},
   "outputs": [
    {
     "data": {
      "text/plain": [
       "(14, 3)"
      ]
     },
     "execution_count": 12,
     "metadata": {},
     "output_type": "execute_result"
    }
   ],
   "source": [
    "env.env.sim.data.xipos.shape"
   ]
  },
  {
   "cell_type": "code",
   "execution_count": 30,
   "metadata": {},
   "outputs": [
    {
     "data": {
      "text/plain": [
       "[1, 2, 2, 3]"
      ]
     },
     "execution_count": 30,
     "metadata": {},
     "output_type": "execute_result"
    }
   ],
   "source": [
    "a = [1,2]\n",
    "b = [2,3]\n",
    "\n"
   ]
  },
  {
   "cell_type": "code",
   "execution_count": 62,
   "metadata": {},
   "outputs": [
    {
     "data": {
      "text/plain": [
       "DeviceArray([1., 7., 1.], dtype=float32)"
      ]
     },
     "execution_count": 62,
     "metadata": {},
     "output_type": "execute_result"
    }
   ],
   "source": [
    "a = np.ones(3)\n",
    "jax.ops.index_add(a, jax.ops.index[1], 6.)"
   ]
  },
  {
   "cell_type": "code",
   "execution_count": 63,
   "metadata": {},
   "outputs": [
    {
     "data": {
      "text/plain": [
       "2"
      ]
     },
     "execution_count": 63,
     "metadata": {},
     "output_type": "execute_result"
    }
   ],
   "source": [
    "f = lambda x : x+1\n",
    "f(1)"
   ]
  },
  {
   "cell_type": "code",
   "execution_count": null,
   "metadata": {},
   "outputs": [],
   "source": []
  }
 ],
 "metadata": {
  "kernelspec": {
   "display_name": "Python 3",
   "language": "python",
   "name": "python3"
  },
  "language_info": {
   "codemirror_mode": {
    "name": "ipython",
    "version": 3
   },
   "file_extension": ".py",
   "mimetype": "text/x-python",
   "name": "python",
   "nbconvert_exporter": "python",
   "pygments_lexer": "ipython3",
   "version": "3.7.6"
  }
 },
 "nbformat": 4,
 "nbformat_minor": 4
}
